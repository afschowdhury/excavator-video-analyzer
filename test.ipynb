{
 "cells": [
  {
   "cell_type": "code",
   "execution_count": 1,
   "id": "6a15bffd",
   "metadata": {},
   "outputs": [],
   "source": [
    "from google import genai\n",
    "from dotenv import load_dotenv\n",
    "from google.genai import types\n",
    "\n",
    "load_dotenv()\n",
    "import os\n",
    "from prompts.system_prompts import improved_prompt, simple_prompt\n",
    "\n",
    "client = genai.Client(api_key=os.getenv(\"GENAI_API_KEY\"))"
   ]
  },
  {
   "cell_type": "code",
   "execution_count": null,
   "id": "635a5664",
   "metadata": {},
   "outputs": [],
   "source": [
    "response = client.models.generate_content(\n",
    "    model=\"gemini-2.5-pro-exp-03-25\",\n",
    "    contents=types.Content(\n",
    "        parts=[\n",
    "            types.Part(\n",
    "                file_data=types.FileData(file_uri=\"https://youtu.be/QdWnkH3TGDU\")\n",
    "            ),\n",
    "            types.Part(text=\"Please generate report from this video\"),\n",
    "        ]\n",
    "    ),\n",
    "    config=types.GenerateContentConfig(\n",
    "        temperature=0.5,\n",
    "        top_p=0.95,\n",
    "        system_instruction=improved_prompt,\n",
    "    ),\n",
    ")"
   ]
  },
  {
   "cell_type": "code",
   "execution_count": 9,
   "id": "51af7a98",
   "metadata": {},
   "outputs": [
    {
     "name": "stdout",
     "output_type": "stream",
     "text": [
      "Okay, analyzing the provided video simulation of the excavator trenching task.\n",
      "\n",
      "---\n",
      "\n",
      "**Excavator Simulator Performance Report**\n",
      "\n",
      "**1. Session Summary:**\n",
      "The user operated an excavator simulator with the objective of digging a trench to a specified depth (indicated by a green plane visual guide, approx. 1.2m/4ft) within a marked area (initially white lines, later a red square). The task also required placing the excavated spoil material outside the marked trench area, specifically to the right side. The session involved multiple digging cycles (dig, swing, dump, return).\n",
      "\n",
      "**2. Performance Breakdown:**\n",
      "\n",
      "*   **Control & Technique:**\n",
      "    *   **Joysticks:** The operator demonstrates a functional understanding of standard excavator controls (appears to be SAE pattern). There is evidence of combining functions (e.g., swing with boom/stick adjustments - 0:18-0:20, 0:45-0:47), which is positive. However, control inputs are not consistently smooth; there are moments of slight hesitation or overly deliberate, sequential movements rather than fluid, blended actions (e.g., slight pauses between stick/boom adjustments and swing initiation). Bucket curling and stick extension/retraction seem generally coordinated for digging.\n",
      "    *   **Pedals:** No travel was observed in this clip, so pedal usage for movement cannot be assessed.\n",
      "*   **Efficiency & Workflow:**\n",
      "    *   **Cycle Times:** Cycle times (from starting a dig cut to returning for the next) appear to be in the range of ~15-20 seconds (e.g., 0:07-0:25, 0:35-0:50). While functional, these times could be improved with smoother control and less hesitation.\n",
      "    *   **Path Efficiency:** Swing paths between the trench and the spoil pile are generally direct. Boom height during swing is kept reasonably low, which is good practice. Bucket filling appears somewhat inconsistent; some scoops seem less than full (e.g., 1:10-1:12), potentially increasing the number of cycles needed.\n",
      "    *   **Workflow:** The operator follows the dig-swing-dump-return sequence correctly. However, the spoil is placed in multiple small piles (0:23, 0:48, 1:18, 1:52, 2:24, etc.) rather than being consolidated into one larger, neater pile. This scattering is inefficient for managing spoil on a real site.\n",
      "*   **Accuracy & Precision:**\n",
      "    *   **Task Goals:** The operator successfully keeps the digging contained within the marked trench boundaries. The depth progression is evident, moving closer to the green target plane with subsequent passes (visible progress by 1:12, 1:47, 2:17, 2:30). Spoil is consistently placed outside the red marked area as required.\n",
      "    *   **Precision:** While digging towards the target depth, the bottom of the trench doesn't appear perfectly smooth or consistently level in the brief views shown (e.g., 2:30-2:33), indicating room for improvement in maintaining grade. Precision in dumping leads to the scattered spoil pile mentioned earlier.\n",
      "*   **Safety Awareness (Simulated):**\n",
      "    *   **Checking Surroundings:** The operator doesn't exhibit overly fast or unchecked swings, implying some level of awareness before rotating the house.\n",
      "    *   **Bucket Height:** Bucket height during swings is generally kept low and safe (e.g., 0:19, 0:46, 1:13).\n",
      "    *   **Machine Stability:** The excavator is positioned appropriately relative to the trench for stable operation throughout the clip.\n",
      "\n",
      "**3. Key Strengths:**\n",
      "\n",
      "*   **Task Comprehension:** Clearly understands the objective of digging within the marked area and placing spoil outside it.\n",
      "*   **Boundary Adherence:** Consistently digs within the designated trench lines/square.\n",
      "*   **Depth Progression:** Makes steady progress towards the target excavation depth (green plane).\n",
      "*   **Basic Control Proficiency:** Demonstrates functional use of boom, stick, bucket, and swing controls.\n",
      "*   **Safe Swing Practices:** Generally maintains appropriate bucket height during swings.\n",
      "\n",
      "**4. Areas for Development:**\n",
      "\n",
      "*   **Control Fluidity:** Joystick inputs could be smoother and more blended. Reducing hesitation between functions and practicing simultaneous movements (e.g., smoothly swinging while adjusting boom/stick) will improve efficiency and reduce jerkiness. *Impact: Reduced cycle times, smoother operation.*\n",
      "*   **Spoil Pile Management:** Dumping spoil in multiple scattered locations is inefficient. *Impact: Increased time/effort needed later if spoil needs to be moved again; less organized worksite.*\n",
      "*   **Bucket Filling:** Aim for consistently full buckets on each pass (where material allows). *Impact: Reduces the total number of cycles required, improving overall efficiency.*\n",
      "*   **Grading Precision:** Achieving a smoother, more consistent trench bottom at the target depth requires finer control, especially when nearing the green plane. *Impact: Ensures accurate trench depth, reduces need for rework.*\n",
      "*   **Cycle Time Optimization:** While functional, cycle times can be reduced through increased control fluidity and minimizing pauses/hesitations. *Impact: Faster task completion.*\n",
      "\n",
      "**5. Actionable Improvement Strategies:**\n",
      "\n",
      "*   **Focus on Blended Controls:** Practice exercises specifically designed to combine joystick functions simultaneously (e.g., swing *while* booming up/down, stick in/out *while* swinging). Aim for smooth, continuous motions.\n",
      "*   **Spoil Placement Exercise:** Practice creating a single, neat spoil pile. Visualize the target spot and aim consistently, slightly overlapping dump locations to build one pile.\n",
      "*   **Bucket Filling Technique:** Concentrate on the angle of attack and the combination of stick-in and bucket curl to maximize material capture in each scoop.\n",
      "*   **Grading Practice:** When nearing the target depth (green plane), use smaller, more controlled movements. Focus on keeping the bucket teeth level and making smooth, shallow passes to achieve a flat bottom. Utilize the simulator's grade indicators effectively.\n",
      "*   **Rhythm and Pacing:** Work on developing a consistent rhythm. Try to anticipate the next control input while the current action is still completing to minimize dead time between movements.\n",
      "\n",
      "**6. Overall Performance Score & Rationale:**\n",
      "\n",
      "*   **Score:** 65/100 (Intermediate)\n",
      "*   **Rationale:** The operator demonstrates a solid understanding of the task requirements and fundamental excavator controls. They successfully operate within boundaries and progress towards the depth goal. However, performance is marked by a lack of consistent smoothness and efficiency. Key areas for improvement include refining control inputs for better fluidity, optimizing cycle times, improving bucket filling consistency, managing the spoil pile more effectively, and achieving greater precision in grading the trench bottom. The operator is beyond the beginner stage but needs significant practice to reach advanced proficiency levels in terms of speed, efficiency, and fine control.\n",
      "\n",
      "---\n"
     ]
    }
   ],
   "source": [
    "print(response.text)"
   ]
  },
  {
   "cell_type": "code",
   "execution_count": 3,
   "id": "fff9be6a",
   "metadata": {},
   "outputs": [],
   "source": [
    "from IPython.display import display, Markdown\n",
    "\n",
    "def display_markdown_response(response):\n",
    "    \"\"\"\n",
    "    Displays the response text as formatted markdown\n",
    "    Args:\n",
    "        response: The Gemini API response object containing markdown text\n",
    "    \"\"\"\n",
    "    if hasattr(response, 'text'):\n",
    "        display(Markdown(response.text))\n",
    "    else:\n",
    "        print(\"Response does not contain text\")\n",
    "\n",
    "# Display the current response\n",
    "# display_markdown_response(response)"
   ]
  },
  {
   "cell_type": "code",
   "execution_count": 4,
   "id": "139f4f0f",
   "metadata": {},
   "outputs": [],
   "source": [
    "response = client.models.generate_content(\n",
    "    model=\"gemini-2.5-pro-exp-03-25\",\n",
    "    contents=types.Content(\n",
    "        parts=[\n",
    "            types.Part(\n",
    "                file_data=types.FileData(file_uri=\"https://youtu.be/QdWnkH3TGDU\")\n",
    "            ),\n",
    "            types.Part(text=\"Please generate report from this video\"),\n",
    "        ]\n",
    "    ),\n",
    "    config=types.GenerateContentConfig(\n",
    "        temperature=0.2,\n",
    "        top_p=0.95,\n",
    "        system_instruction=simple_prompt,\n",
    "    ),\n",
    ")"
   ]
  },
  {
   "cell_type": "code",
   "execution_count": 5,
   "id": "47ca371c",
   "metadata": {},
   "outputs": [
    {
     "data": {
      "text/markdown": [
       "**Excavator Simulator Performance Report**\n",
       "\n",
       "**1. Detailed Action Analysis:**\n",
       "\n",
       "The operator begins the exercise by positioning the excavator bucket over the designated trench area (0:00-0:10). The primary task involves excavating material within the marked white lines down to the indicated green depth plane and placing the spoil within the red marked square to the left. The operator utilizes standard excavator controls (likely two joysticks) to manage boom, stick, bucket curl, and swing functions.\n",
       "\n",
       "*   **Digging Cycle:** The operator consistently performs a standard digging cycle: lowering the boom, extending the stick, curling the bucket to load material, raising the boom while retracting the stick, swinging left, and dumping the bucket over the spoil pile. This cycle is repeated throughout the exercise (e.g., 0:10-0:24, 0:36-0:51, 1:08-1:24).\n",
       "*   **Machine Movements:**\n",
       "    *   **Boom/Stick/Bucket:** Coordinated movements are used for digging. The operator demonstrates good bucket filling technique, achieving relatively full buckets on most passes (e.g., 0:17, 0:42, 1:12). Depth control improves throughout the session, consistently reaching the green target plane later in the exercise (e.g., 1:45, 2:15, 5:28).\n",
       "    *   **Swing:** The swing function is used to move material from the trench to the spoil pile. The swing motion appears somewhat abrupt or jerky, particularly at the start and stop points of the swing arc (visible throughout, e.g., 0:19-0:21, 0:45-0:47, 1:15-1:17).\n",
       "*   **Operational Flow:** The operator works systematically from one end of the trench to the other, making progressive cuts to achieve the required depth and width. The flow is generally consistent, though the jerky swing slightly interrupts the smoothness between digging and dumping phases. Spoil placement is mostly accurate within the designated red square (e.g., 1:53, 2:25, 3:25).\n",
       "\n",
       "**2. Strengths Identification:**\n",
       "\n",
       "*   **Bucket Filling:** The operator demonstrates effective bucket filling technique, consistently achieving good loads, which contributes to efficiency (e.g., 0:42, 1:12, 3:15).\n",
       "*   **Depth Control:** Good control is shown in achieving and maintaining the target trench depth, especially as the exercise progresses. The operator effectively uses the green plane visual guide (e.g., 1:45, 2:43, 5:55, 7:40).\n",
       "*   **Systematic Approach:** The operator excavates the trench in a logical, sequential manner, working along its length.\n",
       "*   **Spoil Placement Accuracy:** Material is generally placed accurately within the designated spoil area (e.g., 1:53, 2:52, 4:35).\n",
       "\n",
       "**3. Areas for Improvement:**\n",
       "\n",
       "*   **Swing Control Smoothness:** The most noticeable area for improvement is the smoothness of the swing function. Movements often start and stop abruptly rather than feathering the control for a smoother acceleration and deceleration (Observed throughout, timestamps like 0:19, 0:45, 1:15, 2:20). *Why improve?* Smoother swings reduce stress on the machine (in real life), improve control, enhance safety by making movements more predictable, and contribute to faster cycle times by reducing settling time.\n",
       "*   **Minor Spillage:** On a few occasions, a small amount of material was spilled just outside the designated red spoil area during the dump (e.g., 0:49, 4:05). *Why improve?* Precise spoil placement is crucial for site tidiness, preventing material from needing re-handling, and avoiding encroachment on other work areas.\n",
       "*   **Initial Cycle Efficiency:** While generally good, the coordination between boom, stick, and swing could be slightly more fluid, especially during the transition from digging to swinging (e.g., 0:18-0:20). *Why improve?* Blending functions smoothly (e.g., starting the swing slightly while the boom is still lifting) can shave seconds off cycle times, significantly boosting overall productivity.\n",
       "\n",
       "**4. Personalized Improvement Tips:**\n",
       "\n",
       "*   **Practice Swing Feathering:** Focus specifically on practicing smooth swing movements. Start by making slow, deliberate swings, concentrating on gently initiating the joystick movement and gradually bringing it back to neutral to stop smoothly. Avoid snapping the joystick back and forth. Try swinging back and forth over set points without digging, just focusing on smooth starts and stops.\n",
       "*   **Refine Dumping Precision:** Pay close attention to the bucket's position relative to the spoil pile *before* opening the bucket. Ensure you are centered over the target area and at an appropriate height to minimize spillage. Practice dumping slowly at first to improve accuracy.\n",
       "*   **Combine Functions:** As swing control improves, practice blending functions. For example, as the bucket clears the trench edge while lifting the boom, begin the swing motion gently. This requires practice to maintain control but significantly improves efficiency.\n",
       "\n",
       "**5. Overall Performance Score: 78/100**\n",
       "\n",
       "*   **Justification:** The operator displays a solid understanding of the trenching task, demonstrating good bucket filling and depth control. The systematic approach is commendable. The score is primarily moderated by the lack of smoothness in swing control, which affects overall finesse and efficiency. Minor improvements in dumping accuracy and function blending would further enhance performance. This score reflects competence with clear areas for refinement."
      ],
      "text/plain": [
       "<IPython.core.display.Markdown object>"
      ]
     },
     "metadata": {},
     "output_type": "display_data"
    }
   ],
   "source": [
    "display_markdown_response(response)"
   ]
  },
  {
   "cell_type": "code",
   "execution_count": null,
   "id": "f052fac2",
   "metadata": {},
   "outputs": [],
   "source": []
  }
 ],
 "metadata": {
  "kernelspec": {
   "display_name": "video-analysis",
   "language": "python",
   "name": "python3"
  },
  "language_info": {
   "codemirror_mode": {
    "name": "ipython",
    "version": 3
   },
   "file_extension": ".py",
   "mimetype": "text/x-python",
   "name": "python",
   "nbconvert_exporter": "python",
   "pygments_lexer": "ipython3",
   "version": "3.10.0"
  }
 },
 "nbformat": 4,
 "nbformat_minor": 5
}
